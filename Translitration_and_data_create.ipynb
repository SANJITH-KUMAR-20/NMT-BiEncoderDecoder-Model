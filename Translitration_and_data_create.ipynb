{
 "cells": [
  {
   "cell_type": "code",
   "execution_count": 1,
   "metadata": {},
   "outputs": [
    {
     "name": "stderr",
     "output_type": "stream",
     "text": [
      "Cloning into 'indic-trans'...\n",
      "Updating files:  10% (76/719)\n",
      "Updating files:  11% (80/719)\n",
      "Updating files:  11% (81/719)\n",
      "Updating files:  12% (87/719)\n",
      "Updating files:  13% (94/719)\n",
      "Updating files:  14% (101/719)\n",
      "Updating files:  14% (103/719)\n",
      "Updating files:  15% (108/719)\n",
      "Updating files:  16% (116/719)\n",
      "Updating files:  16% (121/719)\n",
      "Updating files:  17% (123/719)\n",
      "Updating files:  17% (129/719)\n",
      "Updating files:  18% (130/719)\n",
      "Updating files:  19% (137/719)\n",
      "Updating files:  20% (144/719)\n",
      "Updating files:  21% (151/719)\n",
      "Updating files:  21% (157/719)\n",
      "Updating files:  22% (159/719)\n",
      "Updating files:  23% (166/719)\n",
      "Updating files:  23% (169/719)\n",
      "Updating files:  24% (173/719)\n",
      "Updating files:  25% (180/719)\n",
      "Updating files:  26% (187/719)\n",
      "Updating files:  27% (195/719)\n",
      "Updating files:  28% (202/719)\n",
      "Updating files:  28% (207/719)\n",
      "Updating files:  29% (209/719)\n",
      "Updating files:  30% (216/719)\n",
      "Updating files:  31% (223/719)\n",
      "Updating files:  31% (225/719)\n",
      "Updating files:  32% (231/719)\n",
      "Updating files:  33% (238/719)\n",
      "Updating files:  34% (245/719)\n",
      "Updating files:  35% (252/719)\n",
      "Updating files:  35% (253/719)\n",
      "Updating files:  36% (259/719)\n",
      "Updating files:  36% (264/719)\n",
      "Updating files:  37% (267/719)\n",
      "Updating files:  37% (271/719)\n",
      "Updating files:  38% (274/719)\n",
      "Updating files:  38% (279/719)\n",
      "Updating files:  39% (281/719)\n",
      "Updating files:  39% (283/719)\n",
      "Updating files:  40% (288/719)\n",
      "Updating files:  41% (295/719)\n",
      "Updating files:  42% (302/719)\n",
      "Updating files:  43% (310/719)\n",
      "Updating files:  44% (317/719)\n",
      "Updating files:  45% (324/719)\n",
      "Updating files:  46% (331/719)\n",
      "Updating files:  47% (338/719)\n",
      "Updating files:  47% (343/719)\n",
      "Updating files:  48% (346/719)\n",
      "Updating files:  49% (353/719)\n",
      "Updating files:  50% (360/719)\n",
      "Updating files:  51% (367/719)\n",
      "Updating files:  52% (374/719)\n",
      "Updating files:  53% (382/719)\n",
      "Updating files:  54% (389/719)\n",
      "Updating files:  54% (391/719)\n",
      "Updating files:  55% (396/719)\n",
      "Updating files:  56% (403/719)\n",
      "Updating files:  56% (405/719)\n",
      "Updating files:  57% (410/719)\n",
      "Updating files:  57% (415/719)\n",
      "Updating files:  58% (418/719)\n",
      "Updating files:  59% (425/719)\n",
      "Updating files:  60% (432/719)\n",
      "Updating files:  61% (439/719)\n",
      "Updating files:  62% (446/719)\n",
      "Updating files:  63% (453/719)\n",
      "Updating files:  64% (461/719)\n",
      "Updating files:  65% (468/719)\n",
      "Updating files:  65% (471/719)\n",
      "Updating files:  66% (475/719)\n",
      "Updating files:  67% (482/719)\n",
      "Updating files:  67% (483/719)\n",
      "Updating files:  68% (489/719)\n",
      "Updating files:  69% (497/719)\n",
      "Updating files:  70% (504/719)\n",
      "Updating files:  71% (511/719)\n",
      "Updating files:  72% (518/719)\n",
      "Updating files:  73% (525/719)\n",
      "Updating files:  73% (529/719)\n",
      "Updating files:  74% (533/719)\n",
      "Updating files:  75% (540/719)\n",
      "Updating files:  76% (547/719)\n",
      "Updating files:  76% (553/719)\n",
      "Updating files:  77% (554/719)\n",
      "Updating files:  77% (555/719)\n",
      "Updating files:  77% (560/719)\n",
      "Updating files:  78% (561/719)\n",
      "Updating files:  79% (569/719)\n",
      "Updating files:  80% (576/719)\n",
      "Updating files:  81% (583/719)\n",
      "Updating files:  82% (590/719)\n",
      "Updating files:  82% (595/719)\n",
      "Updating files:  83% (597/719)\n",
      "Updating files:  84% (604/719)\n",
      "Updating files:  85% (612/719)\n",
      "Updating files:  85% (613/719)\n",
      "Updating files:  86% (619/719)\n",
      "Updating files:  87% (626/719)\n",
      "Updating files:  88% (633/719)\n",
      "Updating files:  89% (640/719)\n",
      "Updating files:  89% (643/719)\n",
      "Updating files:  89% (645/719)\n",
      "Updating files:  90% (648/719)\n",
      "Updating files:  91% (655/719)\n",
      "Updating files:  91% (656/719)\n",
      "Updating files:  91% (657/719)\n",
      "Updating files:  92% (662/719)\n",
      "Updating files:  93% (669/719)\n",
      "Updating files:  94% (676/719)\n",
      "Updating files:  94% (679/719)\n",
      "Updating files:  95% (684/719)\n",
      "Updating files:  96% (691/719)\n",
      "Updating files:  97% (698/719)\n",
      "Updating files:  98% (705/719)\n",
      "Updating files:  99% (712/719)\n",
      "Updating files: 100% (719/719)\n",
      "Updating files: 100% (719/719), done.\n"
     ]
    }
   ],
   "source": [
    "!git clone https://github.com/libindic/indic-trans.git"
   ]
  },
  {
   "cell_type": "code",
   "execution_count": 1,
   "metadata": {},
   "outputs": [],
   "source": [
    "!cd indic-trans/"
   ]
  },
  {
   "cell_type": "code",
   "execution_count": 2,
   "metadata": {},
   "outputs": [
    {
     "name": "stdout",
     "output_type": "stream",
     "text": [
      "Requirement already satisfied: pbr in c:\\users\\sanji\\desktop\\ai-projects-2\\neuralmachinetranslation\\translation\\mewenv\\lib\\site-packages (from -r indic-trans/requirements.txt (line 1)) (5.11.1)Note: you may need to restart the kernel to use updated packages.\n"
     ]
    },
    {
     "name": "stderr",
     "output_type": "stream",
     "text": [
      "\n",
      "[notice] A new release of pip available: 22.2.2 -> 23.2.1\n",
      "[notice] To update, run: python.exe -m pip install --upgrade pip\n"
     ]
    },
    {
     "name": "stdout",
     "output_type": "stream",
     "text": [
      "\n",
      "Requirement already satisfied: six in c:\\users\\sanji\\desktop\\ai-projects-2\\neuralmachinetranslation\\translation\\mewenv\\lib\\site-packages (from -r indic-trans/requirements.txt (line 2)) (1.16.0)\n",
      "Requirement already satisfied: future in c:\\users\\sanji\\desktop\\ai-projects-2\\neuralmachinetranslation\\translation\\mewenv\\lib\\site-packages (from -r indic-trans/requirements.txt (line 3)) (0.18.3)\n",
      "Requirement already satisfied: cython>=0.24.0a0 in c:\\users\\sanji\\desktop\\ai-projects-2\\neuralmachinetranslation\\translation\\mewenv\\lib\\site-packages (from -r indic-trans/requirements.txt (line 4)) (3.0.0)\n",
      "Requirement already satisfied: numpy>=1.10.4 in c:\\users\\sanji\\desktop\\ai-projects-2\\neuralmachinetranslation\\translation\\mewenv\\lib\\site-packages (from -r indic-trans/requirements.txt (line 5)) (1.25.2)\n",
      "Requirement already satisfied: scipy>=0.13.3 in c:\\users\\sanji\\desktop\\ai-projects-2\\neuralmachinetranslation\\translation\\mewenv\\lib\\site-packages (from -r indic-trans/requirements.txt (line 6)) (1.11.1)\n"
     ]
    }
   ],
   "source": [
    "%pip install -r indic-trans/requirements.txt"
   ]
  },
  {
   "cell_type": "code",
   "execution_count": 3,
   "metadata": {},
   "outputs": [
    {
     "name": "stdout",
     "output_type": "stream",
     "text": [
      "Processing c:\\users\\sanji\\desktop\\ai-projects-2\\neuralmachinetranslation\\translation\\indic-trans\n",
      "  Installing build dependencies: started\n",
      "  Installing build dependencies: finished with status 'done'\n",
      "  Getting requirements to build wheel: started\n",
      "  Getting requirements to build wheel: finished with status 'done'\n",
      "  Installing backend dependencies: started\n",
      "  Installing backend dependencies: finished with status 'done'\n",
      "  Preparing metadata (pyproject.toml): started\n",
      "  Preparing metadata (pyproject.toml): finished with status 'done'\n",
      "Requirement already satisfied: future in c:\\users\\sanji\\desktop\\ai-projects-2\\neuralmachinetranslation\\translation\\mewenv\\lib\\site-packages (from indictrans==1.2.3) (0.18.3)\n",
      "Requirement already satisfied: cython>=0.24.0a0 in c:\\users\\sanji\\desktop\\ai-projects-2\\neuralmachinetranslation\\translation\\mewenv\\lib\\site-packages (from indictrans==1.2.3) (3.0.0)\n",
      "Requirement already satisfied: scipy>=0.13.3 in c:\\users\\sanji\\desktop\\ai-projects-2\\neuralmachinetranslation\\translation\\mewenv\\lib\\site-packages (from indictrans==1.2.3) (1.11.1)\n",
      "Requirement already satisfied: six in c:\\users\\sanji\\desktop\\ai-projects-2\\neuralmachinetranslation\\translation\\mewenv\\lib\\site-packages (from indictrans==1.2.3) (1.16.0)\n",
      "Requirement already satisfied: pbr in c:\\users\\sanji\\desktop\\ai-projects-2\\neuralmachinetranslation\\translation\\mewenv\\lib\\site-packages (from indictrans==1.2.3) (5.11.1)\n",
      "Requirement already satisfied: numpy>=1.10.4 in c:\\users\\sanji\\desktop\\ai-projects-2\\neuralmachinetranslation\\translation\\mewenv\\lib\\site-packages (from indictrans==1.2.3) (1.25.2)\n",
      "Building wheels for collected packages: indictrans\n",
      "  Building wheel for indictrans (pyproject.toml): started\n",
      "  Building wheel for indictrans (pyproject.toml): still running...\n",
      "  Building wheel for indictrans (pyproject.toml): still running...\n",
      "  Building wheel for indictrans (pyproject.toml): finished with status 'done'\n",
      "  Created wheel for indictrans: filename=indictrans-1.2.3-cp310-cp310-win_amd64.whl size=336187854 sha256=820a71103a1899d5a3fd9d1620569e58deca845e8a449ed1d4359fe1b4963746\n",
      "  Stored in directory: c:\\users\\sanji\\appdata\\local\\pip\\cache\\wheels\\de\\a1\\6d\\ed4f51040b3640bc6e4ae97cd313664822d23043170900bd4f\n",
      "Successfully built indictrans\n",
      "Installing collected packages: indictrans\n",
      "Successfully installed indictrans-1.2.3\n",
      "Note: you may need to restart the kernel to use updated packages.\n"
     ]
    },
    {
     "name": "stderr",
     "output_type": "stream",
     "text": [
      "\n",
      "[notice] A new release of pip available: 22.2.2 -> 23.2.1\n",
      "[notice] To update, run: python.exe -m pip install --upgrade pip\n"
     ]
    }
   ],
   "source": [
    "%pip install indic-trans/."
   ]
  },
  {
   "cell_type": "code",
   "execution_count": 5,
   "metadata": {},
   "outputs": [
    {
     "name": "stdout",
     "output_type": "stream",
     "text": [
      "Collecting wheelNote: you may need to restart the kernel to use updated packages.\n",
      "\n",
      "  Using cached wheel-0.41.0-py3-none-any.whl (64 kB)\n",
      "Installing collected packages: wheel\n",
      "Successfully installed wheel-0.41.0\n"
     ]
    },
    {
     "name": "stderr",
     "output_type": "stream",
     "text": [
      "\n",
      "[notice] A new release of pip available: 22.2.2 -> 23.2.1\n",
      "[notice] To update, run: python.exe -m pip install --upgrade pip\n"
     ]
    }
   ],
   "source": [
    "%pip install wheel"
   ]
  },
  {
   "cell_type": "code",
   "execution_count": 2,
   "metadata": {},
   "outputs": [],
   "source": [
    "from indictrans import Transliterator\n",
    "import os"
   ]
  },
  {
   "cell_type": "code",
   "execution_count": 2,
   "metadata": {},
   "outputs": [],
   "source": [
    "translitobj = Transliterator(source=\"tam\",target=\"eng\",build_lookup=True)"
   ]
  },
  {
   "cell_type": "code",
   "execution_count": 5,
   "metadata": {},
   "outputs": [],
   "source": [
    "path = os.path.join(\"en-ta-parallel-v2\",\"corpus.bcn.test.en\")\n",
    "with open(path,\"r\",encoding=\"utf-8\") as f:\n",
    "    text = f.readlines()"
   ]
  },
  {
   "cell_type": "code",
   "execution_count": 7,
   "metadata": {},
   "outputs": [],
   "source": [
    "with open(\"testen.txt\",\"w\",encoding=\"utf-8\") as f:\n",
    "    for i in text:\n",
    "        f.write(i)"
   ]
  },
  {
   "cell_type": "code",
   "execution_count": 1,
   "metadata": {},
   "outputs": [
    {
     "name": "stdout",
     "output_type": "stream",
     "text": [
      "Collecting matplotlib\n",
      "  Downloading matplotlib-3.7.2-cp310-cp310-win_amd64.whl (7.5 MB)\n",
      "     ---------------------------------------- 7.5/7.5 MB 14.5 MB/s eta 0:00:00\n",
      "Collecting kiwisolver>=1.0.1\n",
      "  Using cached kiwisolver-1.4.4-cp310-cp310-win_amd64.whl (55 kB)\n",
      "Collecting fonttools>=4.22.0\n",
      "  Downloading fonttools-4.41.1-cp310-cp310-win_amd64.whl (2.1 MB)\n",
      "     ---------------------------------------- 2.1/2.1 MB 19.2 MB/s eta 0:00:00\n",
      "Requirement already satisfied: numpy>=1.20 in c:\\users\\sanji\\desktop\\ai-projects-2\\neuralmachinetranslation\\translation\\mewenv\\lib\\site-packages (from matplotlib) (1.25.2)\n",
      "Collecting pyparsing<3.1,>=2.3.1\n",
      "  Using cached pyparsing-3.0.9-py3-none-any.whl (98 kB)\n",
      "Requirement already satisfied: python-dateutil>=2.7 in c:\\users\\sanji\\desktop\\ai-projects-2\\neuralmachinetranslation\\translation\\mewenv\\lib\\site-packages (from matplotlib) (2.8.2)\n",
      "Collecting cycler>=0.10\n",
      "  Using cached cycler-0.11.0-py3-none-any.whl (6.4 kB)\n",
      "Requirement already satisfied: packaging>=20.0 in c:\\users\\sanji\\desktop\\ai-projects-2\\neuralmachinetranslation\\translation\\mewenv\\lib\\site-packages (from matplotlib) (23.1)\n",
      "Collecting contourpy>=1.0.1\n",
      "  Using cached contourpy-1.1.0-cp310-cp310-win_amd64.whl (470 kB)\n",
      "Collecting pillow>=6.2.0\n",
      "  Using cached Pillow-10.0.0-cp310-cp310-win_amd64.whl (2.5 MB)\n",
      "Requirement already satisfied: six>=1.5 in c:\\users\\sanji\\desktop\\ai-projects-2\\neuralmachinetranslation\\translation\\mewenv\\lib\\site-packages (from python-dateutil>=2.7->matplotlib) (1.16.0)\n",
      "Installing collected packages: pyparsing, pillow, kiwisolver, fonttools, cycler, contourpy, matplotlib\n",
      "Successfully installed contourpy-1.1.0 cycler-0.11.0 fonttools-4.41.1 kiwisolver-1.4.4 matplotlib-3.7.2 pillow-10.0.0 pyparsing-3.0.9\n",
      "Note: you may need to restart the kernel to use updated packages.\n"
     ]
    },
    {
     "name": "stderr",
     "output_type": "stream",
     "text": [
      "\n",
      "[notice] A new release of pip available: 22.2.2 -> 23.2.1\n",
      "[notice] To update, run: python.exe -m pip install --upgrade pip\n"
     ]
    }
   ],
   "source": [
    "%pip install matplotlib"
   ]
  },
  {
   "cell_type": "code",
   "execution_count": null,
   "metadata": {},
   "outputs": [],
   "source": []
  }
 ],
 "metadata": {
  "kernelspec": {
   "display_name": "mewenv",
   "language": "python",
   "name": "python3"
  },
  "language_info": {
   "codemirror_mode": {
    "name": "ipython",
    "version": 3
   },
   "file_extension": ".py",
   "mimetype": "text/x-python",
   "name": "python",
   "nbconvert_exporter": "python",
   "pygments_lexer": "ipython3",
   "version": "3.10.8"
  },
  "orig_nbformat": 4
 },
 "nbformat": 4,
 "nbformat_minor": 2
}
