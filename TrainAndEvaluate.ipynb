{
 "cells": [
  {
   "cell_type": "code",
   "execution_count": 9,
   "metadata": {},
   "outputs": [],
   "source": [
    "import Model as mm\n",
    "import DataPrep_utils as dp\n",
    "import TrainandTestUtils as tt\n",
    "import random\n",
    "import os\n",
    "from io import open\n",
    "import Utils as ut\n",
    "from torch import nn\n",
    "import torch"
   ]
  },
  {
   "cell_type": "code",
   "execution_count": 10,
   "metadata": {},
   "outputs": [],
   "source": [
    "path = os.path.join(\"Data\",\"trainen.txt\")\n",
    "path2 = os.path.join(\"Data\",\"train.txt\")"
   ]
  },
  {
   "cell_type": "code",
   "execution_count": 11,
   "metadata": {},
   "outputs": [],
   "source": [
    "#Input Settings\n",
    "input_lang = \"tan\"\n",
    "output_lang = \"eng\"\n",
    "trim = 60\n",
    "\n",
    "max_vocab_size = 30000\n",
    "train_split = 0.9\n",
    "\n",
    "#output Settings\n",
    "test_steps = 10\n",
    "plot_step = 5\n",
    "save_weights = True\n",
    "\n",
    "#Model Hyperparameters\n",
    "bidirectional = True\n",
    "layers = 3\n",
    "hidden_size = 440\n",
    "keep_prob = 0.8\n",
    "batch_size = 32\n",
    "test_batch_size = 32\n",
    "epochs = 30\n",
    "learning_rate = 0.01\n",
    "lrscheduler = {}\n",
    "loss = nn.NLLLoss()\n",
    "\n"
   ]
  },
  {
   "cell_type": "code",
   "execution_count": 12,
   "metadata": {},
   "outputs": [
    {
     "name": "stdout",
     "output_type": "stream",
     "text": [
      "Train: 147875\n",
      "Test: 16430\n"
     ]
    }
   ],
   "source": [
    "cuda = torch.cuda.is_available()\n",
    "\n",
    "input_lang,output_lang,train_split,test_split = ut.prepareData(input_lang,output_lang,path2,path,max_vocab_size,trim = trim)"
   ]
  },
  {
   "cell_type": "code",
   "execution_count": 13,
   "metadata": {},
   "outputs": [
    {
     "data": {
      "text/plain": [
       "<LangObj.Language at 0x207b0343fd0>"
      ]
     },
     "execution_count": 13,
     "metadata": {},
     "output_type": "execute_result"
    }
   ],
   "source": [
    "input_lang"
   ]
  },
  {
   "cell_type": "code",
   "execution_count": 14,
   "metadata": {},
   "outputs": [],
   "source": [
    "encoder = mm.Encoder(input_lang.vocab_size,hidden_size,bidirectional,no_of_layers=layers,keep_prob=keep_prob)"
   ]
  },
  {
   "cell_type": "code",
   "execution_count": 15,
   "metadata": {},
   "outputs": [],
   "source": [
    "decoder = mm.Decoder(hidden_size,output_lang.vocab_size,layers,0.8,bidirectional)"
   ]
  },
  {
   "cell_type": "code",
   "execution_count": 16,
   "metadata": {},
   "outputs": [],
   "source": [
    "if cuda:\n",
    "    encoder = encoder.cuda\n",
    "    decoder = decoder.cuda"
   ]
  },
  {
   "cell_type": "code",
   "execution_count": 9,
   "metadata": {},
   "outputs": [
    {
     "ename": "KeyboardInterrupt",
     "evalue": "",
     "output_type": "error",
     "traceback": [
      "\u001b[1;31m---------------------------------------------------------------------------\u001b[0m",
      "\u001b[1;31mKeyboardInterrupt\u001b[0m                         Traceback (most recent call last)",
      "Cell \u001b[1;32mIn[9], line 1\u001b[0m\n\u001b[1;32m----> 1\u001b[0m tt\u001b[39m.\u001b[39;49mtrain_and_test(epochs,test_steps,plot_step,learning_rate,lrscheduler,train_split,test_split,input_lang,output_lang,batch_size,test_batch_size,encoder,decoder,loss,trim,save_weights\u001b[39m=\u001b[39;49msave_weights,output_file_name\u001b[39m=\u001b[39;49m\u001b[39mNone\u001b[39;49;00m)\n",
      "File \u001b[1;32mc:\\Users\\sanji\\Desktop\\AI-Projects-2\\NeuralMachineTranslation\\Translation\\TrainandTestUtils.py:211\u001b[0m, in \u001b[0;36mtrain_and_test\u001b[1;34m(epochs, test_eval_every, plot_every, learning_rate, lr_schedule, train_pairs, test_pairs, input_lang, output_lang, batch_size, test_batch_size, encoder, decoder, loss_criterion, trim, save_weights, output_file_name)\u001b[0m\n\u001b[0;32m    206\u001b[0m \t\tdecoder_optimizer \u001b[39m=\u001b[39m torch\u001b[39m.\u001b[39moptim\u001b[39m.\u001b[39mAdam(decoder\u001b[39m.\u001b[39mparameters(), lr\u001b[39m=\u001b[39mlearning_rate)\n\u001b[0;32m    208\u001b[0m \t\tbatches, longest_seq, n_o_b \u001b[39m=\u001b[39m ut\u001b[39m.\u001b[39mbatchify(train_pairs, input_lang, \n\u001b[0;32m    209\u001b[0m                                            output_lang, batch_size, \n\u001b[0;32m    210\u001b[0m                                            shuffle_data\u001b[39m=\u001b[39m\u001b[39mTrue\u001b[39;00m)\n\u001b[1;32m--> 211\u001b[0m \t\ttrain_loss \u001b[39m=\u001b[39m train(batches, encoder, decoder, encoder_optimizer, \n\u001b[0;32m    212\u001b[0m                        decoder_optimizer, loss_criterion,output_lang)\n\u001b[0;32m    213\u001b[0m \t\tnow \u001b[39m=\u001b[39m time\u001b[39m.\u001b[39mtime()\n\u001b[0;32m    214\u001b[0m \t\t\u001b[39mprint\u001b[39m(\u001b[39m\"\u001b[39m\u001b[39mIter: \u001b[39m\u001b[39m%s\u001b[39;00m\u001b[39m \u001b[39m\u001b[39m\\n\u001b[39;00m\u001b[39mLearning Rate: \u001b[39m\u001b[39m%s\u001b[39;00m\u001b[39m \u001b[39m\u001b[39m\\n\u001b[39;00m\u001b[39mTime: \u001b[39m\u001b[39m%s\u001b[39;00m\u001b[39m \u001b[39m\u001b[39m\\n\u001b[39;00m\u001b[39mTrain Loss: \u001b[39m\u001b[39m%s\u001b[39;00m\u001b[39m \u001b[39m\u001b[39m\\n\u001b[39;00m\u001b[39m\"\u001b[39m \n\u001b[0;32m    215\u001b[0m           \u001b[39m%\u001b[39m (i, learning_rate, asHours(now\u001b[39m-\u001b[39mstart), train_loss))\n",
      "File \u001b[1;32mc:\\Users\\sanji\\Desktop\\AI-Projects-2\\NeuralMachineTranslation\\Translation\\TrainandTestUtils.py:56\u001b[0m, in \u001b[0;36mtrain\u001b[1;34m(train_batches, encoder, decoder, encoder_optimizer, decoder_optimizer, loss_criterion, output_lang)\u001b[0m\n\u001b[0;32m     54\u001b[0m \ti \u001b[39m+\u001b[39m\u001b[39m=\u001b[39m \u001b[39m1\u001b[39m\n\u001b[0;32m     55\u001b[0m \t(input_batch, target_batch) \u001b[39m=\u001b[39m ut\u001b[39m.\u001b[39mpad_batch(batch)\n\u001b[1;32m---> 56\u001b[0m \tbatch_loss \u001b[39m=\u001b[39m train_batch(input_batch, target_batch, encoder, decoder, encoder_optimizer, decoder_optimizer, loss_criterion,output_lang)\n\u001b[0;32m     57\u001b[0m \tround_loss \u001b[39m+\u001b[39m\u001b[39m=\u001b[39m batch_loss\n\u001b[0;32m     59\u001b[0m \u001b[39mreturn\u001b[39;00m round_loss \u001b[39m/\u001b[39m \u001b[39mlen\u001b[39m(train_batches)\n",
      "File \u001b[1;32mc:\\Users\\sanji\\Desktop\\AI-Projects-2\\NeuralMachineTranslation\\Translation\\TrainandTestUtils.py:39\u001b[0m, in \u001b[0;36mtrain_batch\u001b[1;34m(input_batch, target_batch, encoder, decoder, encoder_optimizer, decoder_optimizer, loss_criterion, output_lang, clip)\u001b[0m\n\u001b[0;32m     34\u001b[0m \tdec_c_hidden \u001b[39m=\u001b[39m dec_outputs[\u001b[39m1\u001b[39m]\n\u001b[0;32m     36\u001b[0m \tloss \u001b[39m+\u001b[39m\u001b[39m=\u001b[39m loss_criterion(pred,target_batch[i])\n\u001b[1;32m---> 39\u001b[0m loss\u001b[39m.\u001b[39;49mbackward()\n\u001b[0;32m     41\u001b[0m torch\u001b[39m.\u001b[39mnn\u001b[39m.\u001b[39mutils\u001b[39m.\u001b[39mclip_grad_norm_(encoder\u001b[39m.\u001b[39mparameters(),clip)\n\u001b[0;32m     42\u001b[0m torch\u001b[39m.\u001b[39mnn\u001b[39m.\u001b[39mutils\u001b[39m.\u001b[39mclip_grad_norm_(decoder\u001b[39m.\u001b[39mparameters(),clip)\n",
      "File \u001b[1;32mc:\\Users\\sanji\\Desktop\\AI-Projects-2\\NeuralMachineTranslation\\Translation\\mewenv\\lib\\site-packages\\torch\\_tensor.py:487\u001b[0m, in \u001b[0;36mTensor.backward\u001b[1;34m(self, gradient, retain_graph, create_graph, inputs)\u001b[0m\n\u001b[0;32m    477\u001b[0m \u001b[39mif\u001b[39;00m has_torch_function_unary(\u001b[39mself\u001b[39m):\n\u001b[0;32m    478\u001b[0m     \u001b[39mreturn\u001b[39;00m handle_torch_function(\n\u001b[0;32m    479\u001b[0m         Tensor\u001b[39m.\u001b[39mbackward,\n\u001b[0;32m    480\u001b[0m         (\u001b[39mself\u001b[39m,),\n\u001b[1;32m   (...)\u001b[0m\n\u001b[0;32m    485\u001b[0m         inputs\u001b[39m=\u001b[39minputs,\n\u001b[0;32m    486\u001b[0m     )\n\u001b[1;32m--> 487\u001b[0m torch\u001b[39m.\u001b[39;49mautograd\u001b[39m.\u001b[39;49mbackward(\n\u001b[0;32m    488\u001b[0m     \u001b[39mself\u001b[39;49m, gradient, retain_graph, create_graph, inputs\u001b[39m=\u001b[39;49minputs\n\u001b[0;32m    489\u001b[0m )\n",
      "File \u001b[1;32mc:\\Users\\sanji\\Desktop\\AI-Projects-2\\NeuralMachineTranslation\\Translation\\mewenv\\lib\\site-packages\\torch\\autograd\\__init__.py:200\u001b[0m, in \u001b[0;36mbackward\u001b[1;34m(tensors, grad_tensors, retain_graph, create_graph, grad_variables, inputs)\u001b[0m\n\u001b[0;32m    195\u001b[0m     retain_graph \u001b[39m=\u001b[39m create_graph\n\u001b[0;32m    197\u001b[0m \u001b[39m# The reason we repeat same the comment below is that\u001b[39;00m\n\u001b[0;32m    198\u001b[0m \u001b[39m# some Python versions print out the first line of a multi-line function\u001b[39;00m\n\u001b[0;32m    199\u001b[0m \u001b[39m# calls in the traceback and some print out the last line\u001b[39;00m\n\u001b[1;32m--> 200\u001b[0m Variable\u001b[39m.\u001b[39;49m_execution_engine\u001b[39m.\u001b[39;49mrun_backward(  \u001b[39m# Calls into the C++ engine to run the backward pass\u001b[39;49;00m\n\u001b[0;32m    201\u001b[0m     tensors, grad_tensors_, retain_graph, create_graph, inputs,\n\u001b[0;32m    202\u001b[0m     allow_unreachable\u001b[39m=\u001b[39;49m\u001b[39mTrue\u001b[39;49;00m, accumulate_grad\u001b[39m=\u001b[39;49m\u001b[39mTrue\u001b[39;49;00m)\n",
      "\u001b[1;31mKeyboardInterrupt\u001b[0m: "
     ]
    }
   ],
   "source": [
    "tt.train_and_test(epochs,test_steps,plot_step,learning_rate,lrscheduler,train_split,test_split,input_lang,output_lang,batch_size,test_batch_size,encoder,decoder,loss,trim,save_weights=save_weights,output_file_name=None)"
   ]
  },
  {
   "cell_type": "code",
   "execution_count": 8,
   "metadata": {},
   "outputs": [
    {
     "data": {
      "text/plain": [
       "'prevented prevented onset clapped onset onset'"
      ]
     },
     "execution_count": 8,
     "metadata": {},
     "output_type": "execute_result"
    }
   ],
   "source": [
    "tt.evaluate(encoder,decoder,dp.normalizeInput(\"naan unai pathean\"),cutoff_length=6,input_lang=input_lang,output_lang=output_lang)"
   ]
  },
  {
   "cell_type": "code",
   "execution_count": null,
   "metadata": {},
   "outputs": [],
   "source": []
  },
  {
   "cell_type": "code",
   "execution_count": null,
   "metadata": {},
   "outputs": [],
   "source": []
  }
 ],
 "metadata": {
  "kernelspec": {
   "display_name": "mewenv",
   "language": "python",
   "name": "python3"
  },
  "language_info": {
   "codemirror_mode": {
    "name": "ipython",
    "version": 3
   },
   "file_extension": ".py",
   "mimetype": "text/x-python",
   "name": "python",
   "nbconvert_exporter": "python",
   "pygments_lexer": "ipython3",
   "version": "3.10.8"
  },
  "orig_nbformat": 4
 },
 "nbformat": 4,
 "nbformat_minor": 2
}
